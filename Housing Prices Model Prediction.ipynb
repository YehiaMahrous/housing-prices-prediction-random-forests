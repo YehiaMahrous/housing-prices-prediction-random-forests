{
  "nbformat": 4,
  "nbformat_minor": 0,
  "metadata": {
    "colab": {
      "provenance": []
    },
    "kernelspec": {
      "name": "python3",
      "display_name": "Python 3"
    },
    "language_info": {
      "name": "python"
    }
  },
  "cells": [
    {
      "cell_type": "code",
      "execution_count": null,
      "metadata": {
        "colab": {
          "base_uri": "https://localhost:8080/"
        },
        "id": "bAts7dgbuGwc",
        "outputId": "c1f8013f-3dfb-4633-ad9d-eb07290d07f9",
        "collapsed": true
      },
      "outputs": [
        {
          "output_type": "stream",
          "name": "stdout",
          "text": [
            "Validation MAE for Random Forest Model: 17,180\n"
          ]
        }
      ],
      "source": [
        "import pandas as pd\n",
        "from sklearn.ensemble import RandomForestRegressor\n",
        "from sklearn.metrics import mean_absolute_error\n",
        "from sklearn.model_selection import train_test_split\n",
        "\n",
        "home_data = pd.read_csv('train.csv')\n",
        "y = home_data.SalePrice\n",
        "\n",
        "features = ['LotArea','ScreenPorch','MSSubClass','YearRemodAdd','3SsnPorch','MiscVal', '1stFlrSF', '2ndFlrSF', 'FullBath', 'BedroomAbvGr', 'OverallCond', 'OverallQual', 'Fireplaces','YearBuilt','GrLivArea', 'YrSold']\n",
        "\n",
        "X = home_data[features]\n",
        "X.head()\n",
        "\n",
        "train_X, val_X, train_y, val_y = train_test_split(X, y, random_state=1)\n",
        "\n",
        "rf_model = RandomForestRegressor(random_state=1)\n",
        "rf_model.fit(train_X, train_y)\n",
        "rf_val_predictions = rf_model.predict(val_X)\n",
        "rf_val_mae = mean_absolute_error(rf_val_predictions, val_y)\n",
        "\n",
        "print(\"Validation MAE for Random Forest Model: {:,.0f}\".format(rf_val_mae))"
      ]
    },
    {
      "cell_type": "code",
      "source": [
        "rf_model_on_full_data = RandomForestRegressor(random_state=1)\n",
        "\n",
        "rf_model_on_full_data.fit(X,y)"
      ],
      "metadata": {
        "colab": {
          "base_uri": "https://localhost:8080/",
          "height": 74
        },
        "id": "EdRkZIrk6Qha",
        "outputId": "ba8cadd1-37b6-4a29-d6a3-a4cab1894a04",
        "collapsed": true
      },
      "execution_count": null,
      "outputs": [
        {
          "output_type": "execute_result",
          "data": {
            "text/plain": [
              "RandomForestRegressor(random_state=1)"
            ],
            "text/html": [
              "<style>#sk-container-id-2 {color: black;background-color: white;}#sk-container-id-2 pre{padding: 0;}#sk-container-id-2 div.sk-toggleable {background-color: white;}#sk-container-id-2 label.sk-toggleable__label {cursor: pointer;display: block;width: 100%;margin-bottom: 0;padding: 0.3em;box-sizing: border-box;text-align: center;}#sk-container-id-2 label.sk-toggleable__label-arrow:before {content: \"▸\";float: left;margin-right: 0.25em;color: #696969;}#sk-container-id-2 label.sk-toggleable__label-arrow:hover:before {color: black;}#sk-container-id-2 div.sk-estimator:hover label.sk-toggleable__label-arrow:before {color: black;}#sk-container-id-2 div.sk-toggleable__content {max-height: 0;max-width: 0;overflow: hidden;text-align: left;background-color: #f0f8ff;}#sk-container-id-2 div.sk-toggleable__content pre {margin: 0.2em;color: black;border-radius: 0.25em;background-color: #f0f8ff;}#sk-container-id-2 input.sk-toggleable__control:checked~div.sk-toggleable__content {max-height: 200px;max-width: 100%;overflow: auto;}#sk-container-id-2 input.sk-toggleable__control:checked~label.sk-toggleable__label-arrow:before {content: \"▾\";}#sk-container-id-2 div.sk-estimator input.sk-toggleable__control:checked~label.sk-toggleable__label {background-color: #d4ebff;}#sk-container-id-2 div.sk-label input.sk-toggleable__control:checked~label.sk-toggleable__label {background-color: #d4ebff;}#sk-container-id-2 input.sk-hidden--visually {border: 0;clip: rect(1px 1px 1px 1px);clip: rect(1px, 1px, 1px, 1px);height: 1px;margin: -1px;overflow: hidden;padding: 0;position: absolute;width: 1px;}#sk-container-id-2 div.sk-estimator {font-family: monospace;background-color: #f0f8ff;border: 1px dotted black;border-radius: 0.25em;box-sizing: border-box;margin-bottom: 0.5em;}#sk-container-id-2 div.sk-estimator:hover {background-color: #d4ebff;}#sk-container-id-2 div.sk-parallel-item::after {content: \"\";width: 100%;border-bottom: 1px solid gray;flex-grow: 1;}#sk-container-id-2 div.sk-label:hover label.sk-toggleable__label {background-color: #d4ebff;}#sk-container-id-2 div.sk-serial::before {content: \"\";position: absolute;border-left: 1px solid gray;box-sizing: border-box;top: 0;bottom: 0;left: 50%;z-index: 0;}#sk-container-id-2 div.sk-serial {display: flex;flex-direction: column;align-items: center;background-color: white;padding-right: 0.2em;padding-left: 0.2em;position: relative;}#sk-container-id-2 div.sk-item {position: relative;z-index: 1;}#sk-container-id-2 div.sk-parallel {display: flex;align-items: stretch;justify-content: center;background-color: white;position: relative;}#sk-container-id-2 div.sk-item::before, #sk-container-id-2 div.sk-parallel-item::before {content: \"\";position: absolute;border-left: 1px solid gray;box-sizing: border-box;top: 0;bottom: 0;left: 50%;z-index: -1;}#sk-container-id-2 div.sk-parallel-item {display: flex;flex-direction: column;z-index: 1;position: relative;background-color: white;}#sk-container-id-2 div.sk-parallel-item:first-child::after {align-self: flex-end;width: 50%;}#sk-container-id-2 div.sk-parallel-item:last-child::after {align-self: flex-start;width: 50%;}#sk-container-id-2 div.sk-parallel-item:only-child::after {width: 0;}#sk-container-id-2 div.sk-dashed-wrapped {border: 1px dashed gray;margin: 0 0.4em 0.5em 0.4em;box-sizing: border-box;padding-bottom: 0.4em;background-color: white;}#sk-container-id-2 div.sk-label label {font-family: monospace;font-weight: bold;display: inline-block;line-height: 1.2em;}#sk-container-id-2 div.sk-label-container {text-align: center;}#sk-container-id-2 div.sk-container {/* jupyter's `normalize.less` sets `[hidden] { display: none; }` but bootstrap.min.css set `[hidden] { display: none !important; }` so we also need the `!important` here to be able to override the default hidden behavior on the sphinx rendered scikit-learn.org. See: https://github.com/scikit-learn/scikit-learn/issues/21755 */display: inline-block !important;position: relative;}#sk-container-id-2 div.sk-text-repr-fallback {display: none;}</style><div id=\"sk-container-id-2\" class=\"sk-top-container\"><div class=\"sk-text-repr-fallback\"><pre>RandomForestRegressor(random_state=1)</pre><b>In a Jupyter environment, please rerun this cell to show the HTML representation or trust the notebook. <br />On GitHub, the HTML representation is unable to render, please try loading this page with nbviewer.org.</b></div><div class=\"sk-container\" hidden><div class=\"sk-item\"><div class=\"sk-estimator sk-toggleable\"><input class=\"sk-toggleable__control sk-hidden--visually\" id=\"sk-estimator-id-2\" type=\"checkbox\" checked><label for=\"sk-estimator-id-2\" class=\"sk-toggleable__label sk-toggleable__label-arrow\">RandomForestRegressor</label><div class=\"sk-toggleable__content\"><pre>RandomForestRegressor(random_state=1)</pre></div></div></div></div></div>"
            ]
          },
          "metadata": {},
          "execution_count": 6
        }
      ]
    },
    {
      "cell_type": "code",
      "source": [
        "test_data = pd.read_csv('test.csv')\n",
        "print(test_data)\n",
        "\n",
        "test_X = test_data[features]\n",
        "\n",
        "test_preds = rf_model_on_full_data.predict(test_X)\n",
        "print(test_preds)"
      ],
      "metadata": {
        "colab": {
          "base_uri": "https://localhost:8080/"
        },
        "id": "PtrkCy6iIBVh",
        "outputId": "55938554-ecc2-4083-ee2e-db382a9cec0c",
        "collapsed": true
      },
      "execution_count": null,
      "outputs": [
        {
          "output_type": "stream",
          "name": "stdout",
          "text": [
            "        Id  MSSubClass MSZoning  LotFrontage  LotArea Street Alley LotShape  \\\n",
            "0     1461          20       RH         80.0    11622   Pave   NaN      Reg   \n",
            "1     1462          20       RL         81.0    14267   Pave   NaN      IR1   \n",
            "2     1463          60       RL         74.0    13830   Pave   NaN      IR1   \n",
            "3     1464          60       RL         78.0     9978   Pave   NaN      IR1   \n",
            "4     1465         120       RL         43.0     5005   Pave   NaN      IR1   \n",
            "...    ...         ...      ...          ...      ...    ...   ...      ...   \n",
            "1454  2915         160       RM         21.0     1936   Pave   NaN      Reg   \n",
            "1455  2916         160       RM         21.0     1894   Pave   NaN      Reg   \n",
            "1456  2917          20       RL        160.0    20000   Pave   NaN      Reg   \n",
            "1457  2918          85       RL         62.0    10441   Pave   NaN      Reg   \n",
            "1458  2919          60       RL         74.0     9627   Pave   NaN      Reg   \n",
            "\n",
            "     LandContour Utilities  ... ScreenPorch PoolArea PoolQC  Fence  \\\n",
            "0            Lvl    AllPub  ...         120        0    NaN  MnPrv   \n",
            "1            Lvl    AllPub  ...           0        0    NaN    NaN   \n",
            "2            Lvl    AllPub  ...           0        0    NaN  MnPrv   \n",
            "3            Lvl    AllPub  ...           0        0    NaN    NaN   \n",
            "4            HLS    AllPub  ...         144        0    NaN    NaN   \n",
            "...          ...       ...  ...         ...      ...    ...    ...   \n",
            "1454         Lvl    AllPub  ...           0        0    NaN    NaN   \n",
            "1455         Lvl    AllPub  ...           0        0    NaN    NaN   \n",
            "1456         Lvl    AllPub  ...           0        0    NaN    NaN   \n",
            "1457         Lvl    AllPub  ...           0        0    NaN  MnPrv   \n",
            "1458         Lvl    AllPub  ...           0        0    NaN    NaN   \n",
            "\n",
            "     MiscFeature MiscVal MoSold  YrSold  SaleType  SaleCondition  \n",
            "0            NaN       0      6    2010        WD         Normal  \n",
            "1           Gar2   12500      6    2010        WD         Normal  \n",
            "2            NaN       0      3    2010        WD         Normal  \n",
            "3            NaN       0      6    2010        WD         Normal  \n",
            "4            NaN       0      1    2010        WD         Normal  \n",
            "...          ...     ...    ...     ...       ...            ...  \n",
            "1454         NaN       0      6    2006        WD         Normal  \n",
            "1455         NaN       0      4    2006        WD        Abnorml  \n",
            "1456         NaN       0      9    2006        WD        Abnorml  \n",
            "1457        Shed     700      7    2006        WD         Normal  \n",
            "1458         NaN       0     11    2006        WD         Normal  \n",
            "\n",
            "[1459 rows x 80 columns]\n",
            "[124094.83 146068.5  172119.36 ... 155635.5  128879.7  233486.6 ]\n"
          ]
        }
      ]
    },
    {
      "cell_type": "code",
      "source": [
        "output = pd.DataFrame({'Id': test_data.Id,\n",
        "                       'SalePrice': test_preds})\n",
        "output.to_csv('submission_5.csv', index=False)"
      ],
      "metadata": {
        "id": "Y5z4FNCgIL6o"
      },
      "execution_count": null,
      "outputs": []
    }
  ]
}